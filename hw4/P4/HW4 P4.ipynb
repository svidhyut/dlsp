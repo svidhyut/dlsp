{
 "cells": [
  {
   "cell_type": "code",
   "execution_count": 230,
   "metadata": {},
   "outputs": [],
   "source": [
    "import pandas as pd\n",
    "import sklearn\n",
    "import numpy as np\n",
    "import os\n",
    "from scipy.optimize import curve_fit\n",
    "from sklearn.linear_model import Ridge\n",
    "import matplotlib.pyplot as plt"
   ]
  },
  {
   "cell_type": "code",
   "execution_count": 6,
   "metadata": {},
   "outputs": [
    {
     "name": "stdout",
     "output_type": "stream",
     "text": [
      "['optimus_56_K80.csv', 'optimus_32_P100.csv', 'optimus_26_k80.csv', 'optimus_50_P100.csv', 'optimus_50_K80.csv', 'optimus_20_V100.csv', 'optimus_32_V100.csv', 'optimus_20_P100.csv', 'optimus_44_V100.csv', 'optimus_20_K80.csv', 'optimus_44_K80.csv', 'optimus_56_V100.csv', 'optimus_26_P100.csv', 'optimus_26_V100.csv', 'optimus_56_P100.csv', 'optimus_32_k80.csv', 'optimus_50_V100.csv', 'optimus_44_P100.csv']\n"
     ]
    }
   ],
   "source": [
    "print(files)"
   ]
  },
  {
   "cell_type": "markdown",
   "metadata": {},
   "source": [
    "#### Helper functions"
   ]
  },
  {
   "cell_type": "code",
   "execution_count": 131,
   "metadata": {},
   "outputs": [],
   "source": [
    "def fnc(l,k,b0,b1,b2):\n",
    "    f = l-1/(b0*k+b1)-b2\n",
    "    return f\n",
    "\n",
    "def wrapped_fnc(obs, b0, b1, b2):\n",
    "    l,k = obs\n",
    "    return fnc(l,k,b0,b1,b2)"
   ]
  },
  {
   "cell_type": "code",
   "execution_count": 141,
   "metadata": {},
   "outputs": [],
   "source": [
    "def sanity_check(l,params):\n",
    "    b0, b1, b2 = params\n",
    "    x = [i for i in range(len(l))]\n",
    "    l_pred = [1/(b0*k + b1)+b2 for k in x]\n",
    "    plt.plot(x,l)\n",
    "    plt.plot(x,l_pred)\n",
    "    plt.show()"
   ]
  },
  {
   "cell_type": "markdown",
   "metadata": {},
   "source": [
    "#### Fit the data and get parameters b0, b1 and b2"
   ]
  },
  {
   "cell_type": "code",
   "execution_count": 175,
   "metadata": {},
   "outputs": [],
   "source": [
    "all_params = np.empty((3))\n",
    "\n",
    "files = os.listdir('model_data/')\n",
    "files = sorted(files)\n",
    "#files= ['optimus_56_K80.csv']\n",
    "for file in files:\n",
    "    if(file.endswith('.csv')):\n",
    "        file = 'model_data/'+file\n",
    "        #print(file)\n",
    "        df = pd.read_csv(file)\n",
    "        df.drop(df.tail(5).index, inplace=True)\n",
    "        l = df['loss'].values\n",
    "        k = df['step'].values\n",
    "        xdata = np.vstack((l,k))\n",
    "        ydata = np.zeros(l.shape)\n",
    "        params, cov = curve_fit(wrapped_fnc,xdata,ydata,bounds=(0,np.inf))\n",
    "        all_params = np.vstack((all_params,params))\n",
    "    \n",
    "#sanity_check() ## call with args l, parameters. Plots l vs l_pred"
   ]
  },
  {
   "cell_type": "code",
   "execution_count": 233,
   "metadata": {},
   "outputs": [
    {
     "name": "stdout",
     "output_type": "stream",
     "text": [
      "          b0        b1        b2   GPU  depth  K80  P100  V100\n",
      "1   0.000809  0.574052  0.202183   K80     20    1     0     0\n",
      "2   0.000798  0.567968  0.198846  P100     20    0     1     0\n",
      "3   0.000850  0.559622  0.202118  V100     20    0     0     1\n",
      "4   0.000891  0.492385  0.228858   K80     26    1     0     0\n",
      "5   0.000841  0.556948  0.229808  P100     26    0     1     0\n",
      "6   0.000824  0.532168  0.226193  V100     26    0     0     1\n",
      "7   0.000844  0.503837  0.249446   K80     32    1     0     0\n",
      "8   0.000805  0.543303  0.245730  P100     32    0     1     0\n",
      "9   0.000262  0.684735  0.040838  V100     32    0     0     1\n",
      "10  0.000744  0.450322  0.251371   K80     44    1     0     0\n",
      "11  0.000808  0.478097  0.281110  P100     44    0     1     0\n",
      "12  0.000428  0.570911  0.145277  V100     44    0     0     1\n",
      "13  0.000291  0.585948  0.107607   K80     56    1     0     0\n",
      "14  0.000169  0.653758  0.005425  P100     56    0     1     0\n",
      "15  0.000731  0.491864  0.293040  V100     56    0     0     1\n"
     ]
    }
   ],
   "source": [
    "beta_df = pd.DataFrame({'b0':all_params[:,0], 'b1': all_params[:,1], 'b2': all_params[:,2]})[1:]\n",
    "beta_df['GPU'] = ['K80','P100', 'V100','K80','P100', 'V100','K80','P100', 'V100','K80','P100', 'V100','K80','P100', 'V100']\n",
    "beta_df['depth'] = [20,20,20,26,26,26,32,32,32,44,44,44,56,56,56]\n",
    "beta_df = pd.concat([beta_df,pd.get_dummies(beta_df['GPU'])],axis=1)\n",
    "print(beta_df)\n",
    "\n",
    "x_pred = {'depth':[50,50,50], 'K80':[1,0,0], 'P100':[0,1,0], 'V100':[0,0,1]}\n",
    "x_pred_df = pd.DataFrame(x_pred,columns=['depth','K80', 'V100', 'P100'])"
   ]
  },
  {
   "cell_type": "markdown",
   "metadata": {},
   "source": [
    "#### Make Predictions for resnet50"
   ]
  },
  {
   "cell_type": "code",
   "execution_count": 261,
   "metadata": {},
   "outputs": [
    {
     "name": "stdout",
     "output_type": "stream",
     "text": [
      "[[5.43137200e-04 4.62532210e-04 5.16954755e-04]\n",
      " [5.25790356e-01 5.64583146e-01 5.58045235e-01]\n",
      " [1.82939894e-01 1.60939939e-01 1.69848644e-01]]\n"
     ]
    }
   ],
   "source": [
    "predicted_params = np.empty((1))\n",
    "\n",
    "for param in ['b0','b1','b2']:\n",
    "    x = beta_df[['depth','K80', 'P100', 'V100']]\n",
    "    y = beta_df[[param]]\n",
    "    model = Ridge()\n",
    "    model.fit(x,y)\n",
    "    y_pred = model.predict(x_pred_df)\n",
    "    predicted_params = np.vstack((predicted_params,y_pred))\n",
    "\n",
    "predicted_params = predicted_params[1:].reshape(3,3)\n",
    "print(predicted_params)\n",
    "## array structure: parameters are rows, GPUs are columns"
   ]
  },
  {
   "cell_type": "markdown",
   "metadata": {},
   "source": [
    "#### Load original data and compare"
   ]
  },
  {
   "cell_type": "code",
   "execution_count": 250,
   "metadata": {},
   "outputs": [],
   "source": [
    "k80 = pd.read_csv('resnet50_data/optimus_50_K80.csv')\n",
    "v100 = pd.read_csv('resnet50_data/optimus_50_V100.csv')\n",
    "p100 = pd.read_csv('resnet50_data/optimus_50_P100.csv')"
   ]
  },
  {
   "cell_type": "code",
   "execution_count": 256,
   "metadata": {},
   "outputs": [
    {
     "data": {
      "image/png": "[encoded data removed]",
      "text/plain": [
       "<Figure size 432x288 with 1 Axes>"
      ]
     },
     "metadata": {
      "needs_background": "light"
     },
     "output_type": "display_data"
    }
   ],
   "source": [
    "lk80 = k80['loss']\n",
    "sanity_check(lk80, predicted_params[:,0])"
   ]
  },
  {
   "cell_type": "code",
   "execution_count": 258,
   "metadata": {},
   "outputs": [
    {
     "data": {
      "image/png": "[encoded data removed]",
      "text/plain": [
       "<Figure size 432x288 with 1 Axes>"
      ]
     },
     "metadata": {
      "needs_background": "light"
     },
     "output_type": "display_data"
    }
   ],
   "source": [
    "lp100 = p100['loss']\n",
    "sanity_check(lp100, predicted_params[:,1])"
   ]
  },
  {
   "cell_type": "code",
   "execution_count": 260,
   "metadata": {},
   "outputs": [
    {
     "data": {
      "image/png": "[encoded data removed]",
      "text/plain": [
       "<Figure size 432x288 with 1 Axes>"
      ]
     },
     "metadata": {
      "needs_background": "light"
     },
     "output_type": "display_data"
    }
   ],
   "source": [
    "lv100 = v100['loss']\n",
    "sanity_check(lv100, predicted_params[:,2])"
   ]
  },
  {
   "cell_type": "markdown",
   "metadata": {},
   "source": [
    "## 4.3: Time vs Number of Workers"
   ]
  },
  {
   "cell_type": "markdown",
   "metadata": {},
   "source": [
    "No. of steps per poch = 50000/128 = 391\n",
    "\n",
    "No. of epochs to convergence = 85.\n",
    "\n",
    "Parameters (as per table):\n",
    "- $\\theta_0$ = 1.02\n",
    "- $\\theta_1$ = 2.78\n",
    "- $\\theta_2$ = 4.92\n",
    "- $\\theta_3$ = 0.00\n",
    "- $\\theta_0$ = 0.02\n",
    "\n",
    "To plot: Time taken to convergence vs Number of workers for Parameter servers in [1,2]"
   ]
  },
  {
   "cell_type": "code",
   "execution_count": 272,
   "metadata": {},
   "outputs": [],
   "source": [
    "def ftime(w,p):\n",
    "    theta_0 = 1.02\n",
    "    theta_1 = 2.78\n",
    "    theta_2 = 4.92\n",
    "    theta_3 = 0.00\n",
    "    theta_4 = 0.02\n",
    "    return 391*85/(theta_0*128/w + theta_1 + theta_2*w/p + theta_3*w + theta_4*p)"
   ]
  },
  {
   "cell_type": "code",
   "execution_count": 273,
   "metadata": {},
   "outputs": [
    {
     "data": {
      "image/png": "[encoded data removed]",
      "text/plain": [
       "<Figure size 432x288 with 1 Axes>"
      ]
     },
     "metadata": {
      "needs_background": "light"
     },
     "output_type": "display_data"
    }
   ],
   "source": [
    "# 2 parameter servers\n",
    "\n",
    "w = [w for w in range(1,100)]\n",
    "time_2 = [ftime(nw,2) for nw in w]\n",
    "plt.plot(w,time_2)\n",
    "plt.show()"
   ]
  },
  {
   "cell_type": "code",
   "execution_count": 274,
   "metadata": {},
   "outputs": [
    {
     "data": {
      "image/png": "[encoded data removed]",
      "text/plain": [
       "<Figure size 432x288 with 1 Axes>"
      ]
     },
     "metadata": {
      "needs_background": "light"
     },
     "output_type": "display_data"
    }
   ],
   "source": [
    "# 4 parameter servers\n",
    "\n",
    "time_4 = [ftime(nw,4) for nw in w]\n",
    "plt.plot(w,time_4)\n",
    "plt.show()"
   ]
  },
  {
   "cell_type": "code",
   "execution_count": null,
   "metadata": {},
   "outputs": [],
   "source": []
  }
 ],
 "metadata": {
  "kernelspec": {
   "display_name": "Python 3",
   "language": "python",
   "name": "python3"
  },
  "language_info": {
   "codemirror_mode": {
    "name": "ipython",
    "version": 3
   },
   "file_extension": ".py",
   "mimetype": "text/x-python",
   "name": "python",
   "nbconvert_exporter": "python",
   "pygments_lexer": "ipython3",
   "version": "3.5.3"
  }
 },
 "nbformat": 4,
 "nbformat_minor": 4
}
