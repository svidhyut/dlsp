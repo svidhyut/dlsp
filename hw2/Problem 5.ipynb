{
 "cells": [
  {
   "cell_type": "markdown",
   "metadata": {},
   "source": [
    "# Problem 5: Universal Approximators: Depth Vs. Width"
   ]
  },
  {
   "cell_type": "markdown",
   "metadata": {},
   "source": [
    "Computational Hardware details: 4 vCPUs, 15 GB RAM, NVIDIA Tesla P100 x 2 GPUs."
   ]
  },
  {
   "cell_type": "code",
   "execution_count": 1,
   "metadata": {},
   "outputs": [
    {
     "name": "stderr",
     "output_type": "stream",
     "text": [
      "Using TensorFlow backend.\n",
      "/usr/local/lib/python3.5/dist-packages/tensorflow/python/framework/dtypes.py:516: FutureWarning: Passing (type, 1) or '1type' as a synonym of type is deprecated; in a future version of numpy, it will be understood as (type, (1,)) / '(1,)type'.\n",
      "  _np_qint8 = np.dtype([(\"qint8\", np.int8, 1)])\n",
      "/usr/local/lib/python3.5/dist-packages/tensorflow/python/framework/dtypes.py:517: FutureWarning: Passing (type, 1) or '1type' as a synonym of type is deprecated; in a future version of numpy, it will be understood as (type, (1,)) / '(1,)type'.\n",
      "  _np_quint8 = np.dtype([(\"quint8\", np.uint8, 1)])\n",
      "/usr/local/lib/python3.5/dist-packages/tensorflow/python/framework/dtypes.py:518: FutureWarning: Passing (type, 1) or '1type' as a synonym of type is deprecated; in a future version of numpy, it will be understood as (type, (1,)) / '(1,)type'.\n",
      "  _np_qint16 = np.dtype([(\"qint16\", np.int16, 1)])\n",
      "/usr/local/lib/python3.5/dist-packages/tensorflow/python/framework/dtypes.py:519: FutureWarning: Passing (type, 1) or '1type' as a synonym of type is deprecated; in a future version of numpy, it will be understood as (type, (1,)) / '(1,)type'.\n",
      "  _np_quint16 = np.dtype([(\"quint16\", np.uint16, 1)])\n",
      "/usr/local/lib/python3.5/dist-packages/tensorflow/python/framework/dtypes.py:520: FutureWarning: Passing (type, 1) or '1type' as a synonym of type is deprecated; in a future version of numpy, it will be understood as (type, (1,)) / '(1,)type'.\n",
      "  _np_qint32 = np.dtype([(\"qint32\", np.int32, 1)])\n",
      "/usr/local/lib/python3.5/dist-packages/tensorflow/python/framework/dtypes.py:525: FutureWarning: Passing (type, 1) or '1type' as a synonym of type is deprecated; in a future version of numpy, it will be understood as (type, (1,)) / '(1,)type'.\n",
      "  np_resource = np.dtype([(\"resource\", np.ubyte, 1)])\n",
      "/usr/local/lib/python3.5/dist-packages/tensorboard/compat/tensorflow_stub/dtypes.py:541: FutureWarning: Passing (type, 1) or '1type' as a synonym of type is deprecated; in a future version of numpy, it will be understood as (type, (1,)) / '(1,)type'.\n",
      "  _np_qint8 = np.dtype([(\"qint8\", np.int8, 1)])\n",
      "/usr/local/lib/python3.5/dist-packages/tensorboard/compat/tensorflow_stub/dtypes.py:542: FutureWarning: Passing (type, 1) or '1type' as a synonym of type is deprecated; in a future version of numpy, it will be understood as (type, (1,)) / '(1,)type'.\n",
      "  _np_quint8 = np.dtype([(\"quint8\", np.uint8, 1)])\n",
      "/usr/local/lib/python3.5/dist-packages/tensorboard/compat/tensorflow_stub/dtypes.py:543: FutureWarning: Passing (type, 1) or '1type' as a synonym of type is deprecated; in a future version of numpy, it will be understood as (type, (1,)) / '(1,)type'.\n",
      "  _np_qint16 = np.dtype([(\"qint16\", np.int16, 1)])\n",
      "/usr/local/lib/python3.5/dist-packages/tensorboard/compat/tensorflow_stub/dtypes.py:544: FutureWarning: Passing (type, 1) or '1type' as a synonym of type is deprecated; in a future version of numpy, it will be understood as (type, (1,)) / '(1,)type'.\n",
      "  _np_quint16 = np.dtype([(\"quint16\", np.uint16, 1)])\n",
      "/usr/local/lib/python3.5/dist-packages/tensorboard/compat/tensorflow_stub/dtypes.py:545: FutureWarning: Passing (type, 1) or '1type' as a synonym of type is deprecated; in a future version of numpy, it will be understood as (type, (1,)) / '(1,)type'.\n",
      "  _np_qint32 = np.dtype([(\"qint32\", np.int32, 1)])\n",
      "/usr/local/lib/python3.5/dist-packages/tensorboard/compat/tensorflow_stub/dtypes.py:550: FutureWarning: Passing (type, 1) or '1type' as a synonym of type is deprecated; in a future version of numpy, it will be understood as (type, (1,)) / '(1,)type'.\n",
      "  np_resource = np.dtype([(\"resource\", np.ubyte, 1)])\n"
     ]
    }
   ],
   "source": [
    "import numpy as np\n",
    "from math import sin,sqrt\n",
    "from sklearn.model_selection import train_test_split\n",
    "import time\n",
    "\n",
    "from keras.models import Sequential\n",
    "from keras.layers import Dense, BatchNormalization\n",
    "from keras.optimizers import SGD as SGD\n",
    "from keras import regularizers\n",
    "\n",
    "import matplotlib.pyplot as plt"
   ]
  },
  {
   "cell_type": "code",
   "execution_count": 2,
   "metadata": {},
   "outputs": [],
   "source": [
    "x = np.random.uniform(-512,512,(100000,2))\n",
    "y = np.array([(-xi[0]-47)*sin(sqrt(abs(xi[0]/2+(xi[1]+47))))-xi[0]*sin(abs(xi[0]-xi[1]-47)) for xi in x] + np.random.normal(0,0.3,100000)).reshape(100000,1)"
   ]
  },
  {
   "cell_type": "code",
   "execution_count": 3,
   "metadata": {},
   "outputs": [
    {
     "name": "stdout",
     "output_type": "stream",
     "text": [
      "(80000, 2) (80000, 1) (20000, 2) (20000, 1)\n"
     ]
    }
   ],
   "source": [
    "x_train, x_test, y_train, y_test = train_test_split(x,y,train_size=0.8, random_state=10)\n",
    "print(x_train.shape,y_train.shape,x_test.shape,y_test.shape)\n",
    "\n",
    "#Normalize input\n",
    "x_train /= 512\n",
    "x_test /= 512"
   ]
  },
  {
   "cell_type": "code",
   "execution_count": 4,
   "metadata": {},
   "outputs": [
    {
     "data": {
      "text/plain": [
       "<keras.optimizers.SGD at 0x7ff43e3d6b38>"
      ]
     },
     "execution_count": 4,
     "metadata": {},
     "output_type": "execute_result"
    }
   ],
   "source": [
    "SGD(nesterov=True)"
   ]
  },
  {
   "cell_type": "code",
   "execution_count": 5,
   "metadata": {},
   "outputs": [
    {
     "name": "stdout",
     "output_type": "stream",
     "text": [
      "training model\n",
      "WARNING:tensorflow:From /usr/local/lib/python3.5/dist-packages/keras/backend/tensorflow_backend.py:422: The name tf.global_variables is deprecated. Please use tf.compat.v1.global_variables instead.\n",
      "\n",
      "20000/20000 [==============================] - 1s 33us/step\n",
      "model 1 done\n",
      "training model\n",
      "20000/20000 [==============================] - 1s 34us/step\n",
      "model 1 done\n",
      "training model\n",
      "20000/20000 [==============================] - 1s 34us/step\n",
      "training model\n",
      "20000/20000 [==============================] - 1s 35us/step\n",
      "training model\n",
      "20000/20000 [==============================] - 1s 35us/step\n"
     ]
    }
   ],
   "source": [
    "#Single layer models\n",
    "t_1 = []\n",
    "metrics_1 = []\n",
    "\n",
    "model = Sequential()\n",
    "model.add(Dense(32, input_dim=2, activation='relu', kernel_initializer='random_uniform'))\n",
    "model.add(Dense(1, activation='linear'))\n",
    "model.compile(optimizer='SGD', loss='mean_squared_error')\n",
    "print(\"training model\")\n",
    "start = time.time()\n",
    "model.fit(x_train, y_train, epochs=2000, batch_size=1000, verbose=0)\n",
    "ttaken = time.time()-start\n",
    "t_1.append(ttaken)\n",
    "metrics_1.append(model.evaluate(x_test,y_test))\n",
    "print(\"model 1 done\")\n",
    "\n",
    "model = Sequential()\n",
    "model.add(Dense(64, input_dim=2, activation='relu', kernel_initializer='random_uniform'))\n",
    "model.add(Dense(1, activation='linear'))\n",
    "model.compile(optimizer='SGD', loss='mean_squared_error')\n",
    "print(\"training model\")\n",
    "start = time.time()\n",
    "model.fit(x_train, y_train, epochs=2000, batch_size=1000, verbose=0)\n",
    "ttaken = time.time()-start\n",
    "t_1.append(ttaken)\n",
    "metrics_1.append(model.evaluate(x_test,y_test))\n",
    "print(\"model 1 done\")\n",
    "\n",
    "model = Sequential()\n",
    "model.add(Dense(128, input_dim=2, activation='relu', kernel_initializer='random_uniform'))\n",
    "model.add(Dense(1, activation='linear'))\n",
    "model.compile(optimizer='SGD', loss='mean_squared_error')\n",
    "print(\"training model\")\n",
    "start = time.time()\n",
    "model.fit(x_train, y_train, epochs=2000, batch_size=1000, verbose=0)\n",
    "ttaken = time.time()-start\n",
    "t_1.append(ttaken)\n",
    "metrics_1.append(model.evaluate(x_test,y_test))\n",
    "\n",
    "model = Sequential()\n",
    "model.add(Dense(256, input_dim=2, activation='relu', kernel_initializer='random_uniform'))\n",
    "model.add(Dense(1, activation='linear'))\n",
    "model.compile(optimizer='SGD', loss='mean_squared_error')\n",
    "print(\"training model\")\n",
    "start = time.time()\n",
    "model.fit(x_train, y_train, epochs=2000, batch_size=1000, verbose=0)\n",
    "ttaken = time.time()-start\n",
    "t_1.append(ttaken)\n",
    "metrics_1.append(model.evaluate(x_test,y_test))\n",
    "\n",
    "model = Sequential()\n",
    "model.add(Dense(512, input_dim=2, activation='relu', kernel_initializer='random_uniform'))\n",
    "model.add(Dense(1, activation='linear'))\n",
    "model.compile(optimizer='SGD', loss='mean_squared_error')\n",
    "print(\"training model\")\n",
    "start = time.time()\n",
    "model.fit(x_train, y_train, epochs=2000, batch_size=1000, verbose=0)\n",
    "ttaken = time.time()-start\n",
    "t_1.append(ttaken)\n",
    "metrics_1.append(model.evaluate(x_test,y_test))"
   ]
  },
  {
   "cell_type": "code",
   "execution_count": 7,
   "metadata": {},
   "outputs": [
    {
     "name": "stdout",
     "output_type": "stream",
     "text": [
      "Metrics for layer 1:  [88273.018634375, 88272.895859375, 88272.5790875, 88048.9421625, 88018.190434375]\n",
      "Time taken for layers 1:  [370.7395372390747, 363.43489813804626, 363.1855764389038, 363.3981685638428, 366.1117813587189]\n"
     ]
    }
   ],
   "source": [
    "print(\"Metrics for layer 1: \",metrics_1)\n",
    "print(\"Time taken for layers 1: \",t_1)"
   ]
  },
  {
   "cell_type": "code",
   "execution_count": 8,
   "metadata": {},
   "outputs": [
    {
     "name": "stdout",
     "output_type": "stream",
     "text": [
      "training model\n",
      "20000/20000 [==============================] - 1s 52us/step\n",
      "training model\n",
      "20000/20000 [==============================] - 1s 57us/step\n",
      "training model\n",
      "20000/20000 [==============================] - 1s 56us/step\n",
      "training model\n",
      "20000/20000 [==============================] - 1s 59us/step\n",
      "training model\n",
      "20000/20000 [==============================] - 1s 59us/step\n"
     ]
    }
   ],
   "source": [
    "#Double Layer Models\n",
    "\n",
    "t_2 = []\n",
    "metrics_2 = []\n",
    "\n",
    "model = Sequential()\n",
    "model.add(Dense(128, input_dim=2, activation='relu', kernel_initializer='zeros', use_bias=False))\n",
    "model.add(BatchNormalization())\n",
    "model.add(Dense(128, activation='relu',kernel_initializer='zeros', use_bias=False))\n",
    "model.add(BatchNormalization())\n",
    "model.add(Dense(1, activation='linear', use_bias=False))\n",
    "model.compile(optimizer='SGD', loss='mean_squared_error')\n",
    "print(\"training model\")\n",
    "start = time.time()\n",
    "model.fit(x_train, y_train, epochs=2000, batch_size = 1000, verbose=0)\n",
    "ttaken = time.time()-start\n",
    "t_2.append(ttaken)\n",
    "metrics_2.append(model.evaluate(x_test,y_test))\n",
    "\n",
    "model = Sequential()\n",
    "model.add(Dense(32, input_dim=2, activation='relu', kernel_initializer='zeros', use_bias=False))\n",
    "model.add(BatchNormalization())\n",
    "model.add(Dense(256, activation='relu',kernel_initializer='zeros', use_bias=False))\n",
    "model.add(BatchNormalization())\n",
    "model.add(Dense(1, activation='linear', use_bias=False))\n",
    "model.compile(optimizer='SGD', loss='mean_squared_error')\n",
    "print(\"training model\")\n",
    "start = time.time()\n",
    "model.fit(x_train, y_train, epochs=2000, batch_size = 1000, verbose=0)\n",
    "ttaken = time.time()-start\n",
    "t_2.append(ttaken)\n",
    "metrics_2.append(model.evaluate(x_test,y_test))\n",
    "\n",
    "model = Sequential()\n",
    "model.add(Dense(64, input_dim=2, activation='relu', kernel_initializer='zeros', use_bias=False))\n",
    "model.add(BatchNormalization())\n",
    "model.add(Dense(256, activation='relu',kernel_initializer='zeros', use_bias=False))\n",
    "model.add(BatchNormalization())\n",
    "model.add(Dense(1, activation='linear', use_bias=False))\n",
    "model.compile(optimizer='SGD', loss='mean_squared_error')\n",
    "print(\"training model\")\n",
    "start = time.time()\n",
    "model.fit(x_train, y_train, epochs=2000, batch_size = 1000, verbose=0)\n",
    "ttaken = time.time()-start\n",
    "t_2.append(ttaken)\n",
    "metrics_2.append(model.evaluate(x_test,y_test))\n",
    "\n",
    "model = Sequential()\n",
    "model.add(Dense(128, input_dim=2, activation='relu', kernel_initializer='zeros', use_bias=False))\n",
    "model.add(BatchNormalization())\n",
    "model.add(Dense(256, activation='relu',kernel_initializer='zeros', use_bias=False))\n",
    "model.add(BatchNormalization())\n",
    "model.add(Dense(1, activation='linear', use_bias=False))\n",
    "model.compile(optimizer='SGD', loss='mean_squared_error')\n",
    "print(\"training model\")\n",
    "start = time.time()\n",
    "model.fit(x_train, y_train, epochs=2000, batch_size = 1000, verbose=0)\n",
    "ttaken = time.time()-start\n",
    "t_2.append(ttaken)\n",
    "metrics_2.append(model.evaluate(x_test,y_test))\n",
    "\n",
    "model = Sequential()\n",
    "model.add(Dense(256, input_dim=2, activation='relu', kernel_initializer='zeros', use_bias=False))\n",
    "model.add(BatchNormalization())\n",
    "model.add(Dense(256, activation='relu',kernel_initializer='zeros', use_bias=False))\n",
    "model.add(BatchNormalization())\n",
    "model.add(Dense(1, activation='linear', use_bias=False))\n",
    "model.compile(optimizer='SGD', loss='mean_squared_error')\n",
    "print(\"training model\")\n",
    "start = time.time()\n",
    "model.fit(x_train, y_train, epochs=2000, batch_size = 1000, verbose=0)\n",
    "ttaken = time.time()-start\n",
    "t_2.append(ttaken)\n",
    "metrics_2.append(model.evaluate(x_test,y_test))"
   ]
  },
  {
   "cell_type": "code",
   "execution_count": 9,
   "metadata": {},
   "outputs": [
    {
     "name": "stdout",
     "output_type": "stream",
     "text": [
      "Metrics for layer 2:  [88287.0532375, 88274.058721875, 88288.43178125, 88276.85150625, 88275.260884375]\n",
      "Time taken for layers 2:  [778.1950402259827, 758.079925775528, 773.7233598232269, 764.1095430850983, 781.5058348178864]\n"
     ]
    }
   ],
   "source": [
    "print(\"Metrics for layer 2: \",metrics_2)\n",
    "print(\"Time taken for layers 2: \",t_2)"
   ]
  },
  {
   "cell_type": "code",
   "execution_count": 10,
   "metadata": {},
   "outputs": [
    {
     "name": "stdout",
     "output_type": "stream",
     "text": [
      "training model\n",
      "20000/20000 [==============================] - 1s 68us/step\n",
      "training model\n",
      "20000/20000 [==============================] - 1s 72us/step\n",
      "training model\n"
     ]
    },
    {
     "ename": "NameError",
     "evalue": "name 't' is not defined",
     "output_type": "error",
     "traceback": [
      "\u001b[0;31m---------------------------------------------------------------------------\u001b[0m",
      "\u001b[0;31mNameError\u001b[0m                                 Traceback (most recent call last)",
      "\u001b[0;32m<ipython-input-10-129667edde4e>\u001b[0m in \u001b[0;36m<module>\u001b[0;34m\u001b[0m\n\u001b[1;32m     48\u001b[0m \u001b[0mmodel\u001b[0m\u001b[0;34m.\u001b[0m\u001b[0mfit\u001b[0m\u001b[0;34m(\u001b[0m\u001b[0mx_train\u001b[0m\u001b[0;34m,\u001b[0m \u001b[0my_train\u001b[0m\u001b[0;34m,\u001b[0m \u001b[0mepochs\u001b[0m\u001b[0;34m=\u001b[0m\u001b[0;36m2000\u001b[0m\u001b[0;34m,\u001b[0m \u001b[0mbatch_size\u001b[0m\u001b[0;34m=\u001b[0m\u001b[0;36m1000\u001b[0m\u001b[0;34m,\u001b[0m \u001b[0mverbose\u001b[0m\u001b[0;34m=\u001b[0m\u001b[0;36m0\u001b[0m\u001b[0;34m)\u001b[0m\u001b[0;34m\u001b[0m\u001b[0m\n\u001b[1;32m     49\u001b[0m \u001b[0mttaken\u001b[0m \u001b[0;34m=\u001b[0m \u001b[0mtime\u001b[0m\u001b[0;34m.\u001b[0m\u001b[0mtime\u001b[0m\u001b[0;34m(\u001b[0m\u001b[0;34m)\u001b[0m\u001b[0;34m-\u001b[0m\u001b[0mstart\u001b[0m\u001b[0;34m\u001b[0m\u001b[0m\n\u001b[0;32m---> 50\u001b[0;31m \u001b[0mt\u001b[0m\u001b[0;34m.\u001b[0m\u001b[0mappend\u001b[0m\u001b[0;34m(\u001b[0m\u001b[0mttaken\u001b[0m\u001b[0;34m)\u001b[0m\u001b[0;34m\u001b[0m\u001b[0m\n\u001b[0m\u001b[1;32m     51\u001b[0m \u001b[0mmetrics\u001b[0m\u001b[0;34m.\u001b[0m\u001b[0mappend\u001b[0m\u001b[0;34m(\u001b[0m\u001b[0mmodel\u001b[0m\u001b[0;34m.\u001b[0m\u001b[0mevaluate\u001b[0m\u001b[0;34m(\u001b[0m\u001b[0mx_test\u001b[0m\u001b[0;34m,\u001b[0m\u001b[0my_test\u001b[0m\u001b[0;34m)\u001b[0m\u001b[0;34m)\u001b[0m\u001b[0;34m\u001b[0m\u001b[0m\n\u001b[1;32m     52\u001b[0m \u001b[0;34m\u001b[0m\u001b[0m\n",
      "\u001b[0;31mNameError\u001b[0m: name 't' is not defined"
     ]
    }
   ],
   "source": [
    "#Triple Layer Models\n",
    "t_3 = []\n",
    "metrics_3 = []\n",
    "\n",
    "model = Sequential()\n",
    "model.add(Dense(32, input_dim=2, activation='relu', kernel_initializer='zeros', use_bias=False))\n",
    "model.add(BatchNormalization())\n",
    "model.add(Dense(32, activation='relu', kernel_initializer='zeros', use_bias=False))\n",
    "model.add(BatchNormalization())\n",
    "model.add(Dense(256, activation='relu', kernel_initializer='zeros', use_bias=False))\n",
    "model.add(BatchNormalization())\n",
    "model.add(Dense(1, activation='linear'))\n",
    "model.compile(optimizer='SGD', loss='mean_squared_error')\n",
    "print(\"training model\")\n",
    "start = time.time()\n",
    "model.fit(x_train, y_train, epochs=2000, batch_size=1000, verbose=0)\n",
    "ttaken = time.time()-start\n",
    "t_3.append(ttaken)\n",
    "metrics_3.append(model.evaluate(x_test,y_test))\n",
    "\n",
    "model = Sequential()\n",
    "model.add(Dense(32, input_dim=2, activation='relu', kernel_initializer='zeros', use_bias=False))\n",
    "model.add(BatchNormalization())\n",
    "model.add(Dense(64, activation='relu', kernel_initializer='zeros', use_bias=False))\n",
    "model.add(BatchNormalization())\n",
    "model.add(Dense(256, activation='relu', kernel_initializer='zeros', use_bias=False))\n",
    "model.add(BatchNormalization())\n",
    "model.add(Dense(1, activation='linear'))\n",
    "model.compile(optimizer='SGD', loss='mean_squared_error')\n",
    "print(\"training model\")\n",
    "start = time.time()\n",
    "model.fit(x_train, y_train, epochs=2000, batch_size=1000, verbose=0)\n",
    "ttaken = time.time()-start\n",
    "t_3.append(ttaken)\n",
    "metrics_3.append(model.evaluate(x_test,y_test))\n",
    "\n",
    "model = Sequential()\n",
    "model.add(Dense(64, input_dim=2, activation='relu', kernel_initializer='zeros', use_bias=False))\n",
    "model.add(BatchNormalization())\n",
    "model.add(Dense(64, activation='relu', kernel_initializer='zeros', use_bias=False))\n",
    "model.add(BatchNormalization())\n",
    "model.add(Dense(256, activation='relu', kernel_initializer='zeros', use_bias=False))\n",
    "model.add(BatchNormalization())\n",
    "model.add(Dense(1, activation='linear'))\n",
    "model.compile(optimizer='SGD', loss='mean_squared_error')\n",
    "print(\"training model\")\n",
    "start = time.time()\n",
    "model.fit(x_train, y_train, epochs=2000, batch_size=1000, verbose=0)\n",
    "ttaken = time.time()-start\n",
    "\n",
    "#Ignore the error below-due to a wrong variable name (t instead of t_3 in the next cell). It does not affect the source. Network takes too long to train it again (on an average, each model takes close to 30 minutes on 2 NVDIA P100s):D"
   ]
  },
  {
   "cell_type": "code",
   "execution_count": 11,
   "metadata": {},
   "outputs": [
    {
     "name": "stdout",
     "output_type": "stream",
     "text": [
      "20000/20000 [==============================] - 2s 77us/step\n",
      "training model\n",
      "20000/20000 [==============================] - 2s 76us/step\n",
      "training model\n",
      "20000/20000 [==============================] - 2s 83us/step\n"
     ]
    }
   ],
   "source": [
    "t_3.append(ttaken)\n",
    "metrics_3.append(model.evaluate(x_test,y_test))\n",
    "\n",
    "model = Sequential()\n",
    "model.add(Dense(32, input_dim=2, activation='relu', kernel_initializer='zeros', use_bias=False))\n",
    "model.add(BatchNormalization())\n",
    "model.add(Dense(128, activation='relu', kernel_initializer='zeros', use_bias=False))\n",
    "model.add(BatchNormalization())\n",
    "model.add(Dense(256, activation='relu', kernel_initializer='zeros', use_bias=False))\n",
    "model.add(BatchNormalization())\n",
    "model.add(Dense(1, activation='linear'))\n",
    "model.compile(optimizer='SGD', loss='mean_squared_error')\n",
    "print(\"training model\")\n",
    "start = time.time()\n",
    "model.fit(x_train, y_train, epochs=2000, batch_size=1000, verbose=0)\n",
    "ttaken = time.time()-start\n",
    "t_3.append(ttaken)\n",
    "metrics_3.append(model.evaluate(x_test,y_test))\n",
    "\n",
    "model = Sequential()\n",
    "model.add(Dense(64, input_dim=2, activation='relu', kernel_initializer='zeros', use_bias=False))\n",
    "model.add(BatchNormalization())\n",
    "model.add(Dense(128, activation='relu', kernel_initializer='zeros', use_bias=False))\n",
    "model.add(BatchNormalization())\n",
    "model.add(Dense(256, activation='relu', kernel_initializer='zeros', use_bias=False))\n",
    "model.add(BatchNormalization())\n",
    "model.add(Dense(1, activation='linear'))\n",
    "model.compile(optimizer='SGD', loss='mean_squared_error')\n",
    "print(\"training model\")\n",
    "start = time.time()\n",
    "model.fit(x_train, y_train, epochs=2000, batch_size=1000, verbose=0)\n",
    "ttaken = time.time()-start\n",
    "t_3.append(ttaken)\n",
    "metrics_3.append(model.evaluate(x_test,y_test))"
   ]
  },
  {
   "cell_type": "code",
   "execution_count": 14,
   "metadata": {},
   "outputs": [
    {
     "name": "stdout",
     "output_type": "stream",
     "text": [
      "Metrics for layer 3:  [88272.1808375, 88272.254046875, 88272.182946875, 88272.196721875, 88272.183859375]\n",
      "Time taken for layers 3:  [1003.4113006591797, 987.1585192680359, 1003.2690584659576, 1016.3088991641998, 1017.4656870365143]\n"
     ]
    }
   ],
   "source": [
    "print(\"Metrics for layer 3: \",metrics_3)\n",
    "print(\"Time taken for layers 3: \",t_3)"
   ]
  },
  {
   "cell_type": "code",
   "execution_count": 15,
   "metadata": {},
   "outputs": [],
   "source": [
    "nhu_1 = [32,64,128,256,512]\n",
    "nhu_2 = [256,284,320,384,512]\n",
    "nhu_3 = [320,352,384,416,512]"
   ]
  },
  {
   "cell_type": "code",
   "execution_count": 16,
   "metadata": {},
   "outputs": [
    {
     "data": {
      "image/png": "[encoded data removed]",
      "text/plain": [
       "<Figure size 432x288 with 1 Axes>"
      ]
     },
     "metadata": {
      "needs_background": "light"
     },
     "output_type": "display_data"
    }
   ],
   "source": [
    "#Plot #Layers vs RMSE\n",
    "plt.plot(nhu_1,metrics_1,color='red')\n",
    "plt.plot(nhu_2,metrics_2,color='orange')\n",
    "plt.plot(nhu_3,metrics_3,color='blue')\n",
    "plt.show()"
   ]
  },
  {
   "cell_type": "markdown",
   "metadata": {},
   "source": [
    "## RMSE vs No. of Layers:\n",
    "\n",
    "We can see in the above graph that the RMSE is the least when we use a single, shallow layer of 512 hidden units over a deep, 3-layer network. This result is counterintuitive- although we expect deeper networks to learn more features and perform better, this looks like deep the deep network overfits the training data, and hence performs poorly on the test set. \n",
    "An interesting observation: The RMSE for a three layer network is more or less the same irrespective of the number of nodes used in each layer."
   ]
  },
  {
   "cell_type": "markdown",
   "metadata": {},
   "source": [
    "## RMSE vs number of hidden units"
   ]
  },
  {
   "cell_type": "code",
   "execution_count": 32,
   "metadata": {},
   "outputs": [
    {
     "data": {
      "image/png": "[encoded data removed]",
      "text/plain": [
       "<Figure size 432x288 with 1 Axes>"
      ]
     },
     "metadata": {
      "needs_background": "light"
     },
     "output_type": "display_data"
    }
   ],
   "source": [
    "x_t = [32,64,128,284,320,352,384,416,512]\n",
    "m_t = metrics_1[0:3] + [metrics_2[1]] + [(metrics_2[2]+metrics_3[0])/2] + [metrics_3[1]] + [(metrics_2[3]+metrics_3[2])/2] + [metrics_3[3]] + [(metrics_1[4]+metrics_2[4]+metrics_3[4])/3]\n",
    "plt.plot(x_t,m_t)\n",
    "plt.show()"
   ]
  },
  {
   "cell_type": "markdown",
   "metadata": {},
   "source": [
    "## Numer of parameters vs Training Time:\n",
    "\n"
   ]
  },
  {
   "cell_type": "code",
   "execution_count": 24,
   "metadata": {},
   "outputs": [
    {
     "name": "stdout",
     "output_type": "stream",
     "text": [
      "[370.7395372390747, 363.43489813804626, 363.1855764389038]\n"
     ]
    },
    {
     "data": {
      "text/plain": [
       "[<matplotlib.lines.Line2D at 0x7ff358b84f28>]"
      ]
     },
     "execution_count": 24,
     "metadata": {},
     "output_type": "execute_result"
    },
    {
     "data": {
      "image/png": "[encoded data removed]",
      "text/plain": [
       "<Figure size 432x288 with 1 Axes>"
      ]
     },
     "metadata": {
      "needs_background": "light"
     },
     "output_type": "display_data"
    }
   ],
   "source": [
    "x_t = [32,64,128,256,284,320,352,384,416,512]\n",
    "y_t = t_1[0:3] + [(t_1[3]+t_2[0])/2] + [t_2[1]] + [(t_2[2]+t_3[0])/2] + [t_3[1]] + [(t_2[3]+t_3[2])/2] + [t_3[3]] + [(t_1[4]+t_2[4]+t_3[4])/3]\n",
    "plt.plot(x_t,y_t)"
   ]
  },
  {
   "cell_type": "markdown",
   "metadata": {},
   "source": [
    "The above plt on No. of Training Units vs Time is NOT a true reflection of the behaviour as the number of layers in each step vary. \n",
    "Having said that, we can observe that within a lyer, as the number of neurons increases, the training time increases. Eg: the chart below for a single layer neural network:"
   ]
  },
  {
   "cell_type": "code",
   "execution_count": 29,
   "metadata": {},
   "outputs": [
    {
     "data": {
      "text/plain": [
       "[<matplotlib.lines.Line2D at 0x7ff358a9a780>]"
      ]
     },
     "execution_count": 29,
     "metadata": {},
     "output_type": "execute_result"
    },
    {
     "data": {
      "image/png": "[encoded data removed]",
      "text/plain": [
       "<Figure size 432x288 with 1 Axes>"
      ]
     },
     "metadata": {
      "needs_background": "light"
     },
     "output_type": "display_data"
    }
   ],
   "source": [
    "x_t1 = [64,128,256,512]\n",
    "plt.plot(x_t1,t_1[1:])"
   ]
  },
  {
   "cell_type": "code",
   "execution_count": null,
   "metadata": {},
   "outputs": [],
   "source": []
  }
 ],
 "metadata": {
  "kernelspec": {
   "display_name": "Python 3",
   "language": "python",
   "name": "python3"
  },
  "language_info": {
   "codemirror_mode": {
    "name": "ipython",
    "version": 3
   },
   "file_extension": ".py",
   "mimetype": "text/x-python",
   "name": "python",
   "nbconvert_exporter": "python",
   "pygments_lexer": "ipython3",
   "version": "3.5.3"
  }
 },
 "nbformat": 4,
 "nbformat_minor": 4
}
