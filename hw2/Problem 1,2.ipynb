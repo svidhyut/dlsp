{
 "cells": [
  {
   "cell_type": "markdown",
   "metadata": {},
   "source": [
    "## Problem 1: Perceptron"
   ]
  },
  {
   "cell_type": "markdown",
   "metadata": {},
   "source": [
    "### 1.1,1.2"
   ]
  },
  {
   "cell_type": "code",
   "execution_count": 4,
   "metadata": {},
   "outputs": [],
   "source": [
    "import numpy as np\n",
    "from matplotlib import pyplot as plt\n",
    "import random"
   ]
  },
  {
   "cell_type": "code",
   "execution_count": 5,
   "metadata": {},
   "outputs": [
    {
     "name": "stdout",
     "output_type": "stream",
     "text": [
      "[[0.15416284 0.7400497 ]\n",
      " [0.26331502 0.53373939]\n",
      " [0.01457496 0.91874701]\n",
      " [0.90071485 0.03342143]\n",
      " [0.95694934 0.13720932]\n",
      " [0.28382835 0.60608318]\n",
      " [0.94422514 0.85273554]\n",
      " [0.00225923 0.52122603]\n",
      " [0.55203763 0.48537741]\n",
      " [0.76813415 0.16071675]\n",
      " [0.76456045 0.0208098 ]\n",
      " [0.13521018 0.11627302]\n",
      " [0.30989758 0.67145265]\n",
      " [0.47122978 0.8161683 ]\n",
      " [0.28958678 0.73312598]\n",
      " [0.70262236 0.32756948]\n",
      " [0.33464753 0.97805808]\n",
      " [0.62458211 0.95031352]\n",
      " [0.76747565 0.82500925]\n",
      " [0.4066403  0.45130841]] [-1, -1, -1, 1, 1, -1, 1, -1, 1, 1, 1, 1, -1, -1, -1, 1, -1, -1, -1, -1]\n"
     ]
    }
   ],
   "source": [
    "np.random.seed(12)\n",
    "x = np.random.rand(20,2)\n",
    "y = [1 if x[i][0]>x[i][1] else -1 for i in range(len(x))]\n",
    "print(x,y)"
   ]
  },
  {
   "cell_type": "code",
   "execution_count": 6,
   "metadata": {},
   "outputs": [
    {
     "data": {
      "text/plain": [
       "<function matplotlib.pyplot.plot(*args, scalex=True, scaley=True, data=None, **kwargs)>"
      ]
     },
     "execution_count": 6,
     "metadata": {},
     "output_type": "execute_result"
    },
    {
     "data": {
      "image/png": "[encoded data removed]",
      "text/plain": [
       "<Figure size 432x288 with 1 Axes>"
      ]
     },
     "metadata": {
      "needs_background": "light"
     },
     "output_type": "display_data"
    }
   ],
   "source": [
    "g1 = [[x1,x2] for [x1,x2] in x if x1>x2]\n",
    "g2 = [[x1,x2] for [x1,x2] in x if x1<=x2]\n",
    "plt.scatter([g[0] for g in g1],[g[1] for g in g1],color='red',label='first')\n",
    "plt.scatter([g[0] for g in g2],[g[1] for g in g2],color='blue',label='second')\n",
    "plt.legend(loc=2)\n",
    "plt.plot"
   ]
  },
  {
   "cell_type": "code",
   "execution_count": 18,
   "metadata": {},
   "outputs": [],
   "source": [
    "def predict(x,w):\n",
    "    return 1 if np.dot(x,w)>0 else 0\n",
    "\n",
    "def perceptron_sgd(X, Y):\n",
    "    #print(X,Y)\n",
    "    w = np.zeros(2)\n",
    "    eta = 0.5\n",
    "    epochs = 20\n",
    "\n",
    "    for t in range(epochs):\n",
    "        sum_loss=0\n",
    "        for i,x in enumerate(X):\n",
    "            y_hat = predict(x,w)\n",
    "            error = Y[i]-y_hat\n",
    "            w = w + eta*error*x\n",
    "    return w\n",
    "\n",
    "def perceptron_hinge(X,Y):\n",
    "    w = np.zeros(2)\n",
    "    eta = 0.5\n",
    "    epochs = 20\n",
    "\n",
    "    for t in range(epochs):\n",
    "        for i,x in enumerate(X):\n",
    "            error = 0 if (1-Y[i]*np.dot(x,w)<0) else (1-Y[i]*np.dot(x,w))\n",
    "            w = w + eta*(1-error*x)\n",
    "    return w"
   ]
  },
  {
   "cell_type": "code",
   "execution_count": 19,
   "metadata": {},
   "outputs": [
    {
     "name": "stdout",
     "output_type": "stream",
     "text": [
      "[  2.69142677 -66.77754574]\n",
      "[ 37.61195279 -29.8278926 ]\n"
     ]
    }
   ],
   "source": [
    "w1 = perceptron_sgd(x,y)\n",
    "print(w1)\n",
    "w2 = perceptron_hinge(x,y)\n",
    "print(w2)"
   ]
  },
  {
   "cell_type": "code",
   "execution_count": 49,
   "metadata": {},
   "outputs": [
    {
     "name": "stdout",
     "output_type": "stream",
     "text": [
      "Accuracy of Normal loss =  0.506\n",
      "Accuracy of Hinge Loss =  0.904\n"
     ]
    }
   ],
   "source": [
    "np.random.seed(80)\n",
    "x_test = np.random.rand(1000,2)\n",
    "y_test = [1 if x_test[i][0]>x_test[i][1] else 0 for i in range(len(x_test))]\n",
    "\n",
    "y_hat_test_1 = [predict(xi,w1) for xi in x_test]\n",
    "test_err_1 = np.mean(np.array(y_hat_test_1) != np.array(y_test))\n",
    "\n",
    "y_hat_test_2 = [predict(xi,w2) for xi in x_test]\n",
    "test_err_2 = np.mean(np.array(y_hat_test_2) != np.array(y_test))\n",
    "print( \"Accuracy of Normal loss = \",1-test_err_1)\n",
    "print( \"Accuracy of Hinge Loss = \",1-test_err_2)"
   ]
  },
  {
   "cell_type": "markdown",
   "metadata": {},
   "source": [
    "### 1.3\n",
    "\n",
    "Hinge Loss has a much better performance than the perceptron loss function. \n",
    "The hinge loss function is designed to optimize on performance: When evaluating planar boundaries that separate positive points from negative points, it is irrelevant how far away from the boundary the correctly classified points are. However, misclassified points incur a penalty that is directly proportional to how far they are on the wrong side of the boundary. Thus, the optimization happens to improve accuracy, while sacrificing on density of the weight vector. \n",
    "\n",
    "### 1.4\n",
    "Perceptron loss will have much higher consistency as the hinge loss function will have high sensitivity towards outliers (from above, and the definition of an outlier)"
   ]
  },
  {
   "cell_type": "markdown",
   "metadata": {},
   "source": [
    "## Problem 2- Softmax Activation Function"
   ]
  },
  {
   "cell_type": "markdown",
   "metadata": {},
   "source": [
    "### 2.1\n",
    "\n",
    "$ \n",
    "\\begin{align}\n",
    "E & = -\\sum_j y_j \\log o_j \\implies \\frac{\\partial E}{\\partial v_k} = \\sum_j y_j \\frac{\\partial log o_j}{\\partial v_k} \n",
    "\\end{align}\n",
    "$\n",
    "\n",
    "Let $ \\sum_j e^{v_j} = \\Omega $\n",
    "\n",
    "Given \n",
    "\n",
    "$\n",
    "\\begin{align}\n",
    "o_j & = \\frac{1}{\\Omega} e^{v_j} \\implies \\log o_j = v_j - \\log \\Omega \\\\\n",
    "\\implies \\frac{\\partial \\log o_j}{\\partial v_k} & = \\delta_{jk} - \\frac{1}{\\Omega} \\frac{\\partial \\Omega}{\\partial v_k}\n",
    "\\end{align}\n",
    "$\n",
    "\n",
    "where $\\delta_{jk}$ is the Kronecker delta- ie if $j\\ne k, \\delta_{jk} = 0$ and if $j = k, \\delta_{jk} = 1$ Therefore,\n",
    "\n",
    "$\n",
    "\\begin{align}\n",
    "\\frac{\\partial \\Omega}{\\partial v_j} &= \\sum_i e^{v_i} \\delta_{ij} = e^{v_j} \\\\\n",
    "\\implies \\frac{\\partial \\log o_i}{\\partial v_j} &= \\delta_{jj} - o_j \\\\\n",
    "\\implies \\frac{\\partial o_i}{\\partial v_j} &= o_j(\\delta_{ij} - o_j)\n",
    "\\end{align}\n",
    "$\n",
    "\n",
    "Thus, when $i = j, \\frac{\\partial o_i}{\\partial v_j} = o_j(1 - o_j) $ \n",
    "\n",
    "and when $i \\ne j, \\frac{\\partial o_i}{\\partial v_j} = o_i(0 - o_j) = -o_i o_j$\n",
    "\n",
    "Hence proved."
   ]
  },
  {
   "cell_type": "markdown",
   "metadata": {},
   "source": [
    "### 2.2\n",
    "\n",
    "Following (1), \n",
    "\n",
    "$$ \\frac{\\partial E}{\\partial v_i} = \\sum_j y_j(o_i - \\delta_{ik}) = o_i(\\sum_ j y_j)-y_i. $$\n",
    "\n",
    "For a one-hot encoded input, $\\sum_i y_i = 1$\n",
    "\n",
    "Therefore, $$ \\frac{\\partial E}{\\partial v_i} = o_i - y_i $$"
   ]
  },
  {
   "cell_type": "code",
   "execution_count": null,
   "metadata": {},
   "outputs": [],
   "source": []
  }
 ],
 "metadata": {
  "kernelspec": {
   "display_name": "Python 3",
   "language": "python",
   "name": "python3"
  },
  "language_info": {
   "codemirror_mode": {
    "name": "ipython",
    "version": 3
   },
   "file_extension": ".py",
   "mimetype": "text/x-python",
   "name": "python",
   "nbconvert_exporter": "python",
   "pygments_lexer": "ipython3",
   "version": "3.5.3"
  }
 },
 "nbformat": 4,
 "nbformat_minor": 4
}
